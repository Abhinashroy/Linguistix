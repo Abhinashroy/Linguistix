{
  "cells": [
    {
      "cell_type": "code",
      "execution_count": null,
      "metadata": {
        "colab": {
          "base_uri": "https://localhost:8080/"
        },
        "id": "Ahhl1KtCMnL8",
        "outputId": "1bab6e7a-0de4-4087-81ac-4c4d57509842"
      },
      "outputs": [
        {
          "name": "stdout",
          "output_type": "stream",
          "text": [
            "Requirement already satisfied: librosa in /usr/local/lib/python3.11/dist-packages (0.11.0)\n",
            "Requirement already satisfied: numpy in /usr/local/lib/python3.11/dist-packages (2.0.2)\n",
            "Requirement already satisfied: pandas in /usr/local/lib/python3.11/dist-packages (2.2.2)\n",
            "Requirement already satisfied: scikit-learn in /usr/local/lib/python3.11/dist-packages (1.6.1)\n",
            "Requirement already satisfied: audioread>=2.1.9 in /usr/local/lib/python3.11/dist-packages (from librosa) (3.0.1)\n",
            "Requirement already satisfied: numba>=0.51.0 in /usr/local/lib/python3.11/dist-packages (from librosa) (0.60.0)\n",
            "Requirement already satisfied: scipy>=1.6.0 in /usr/local/lib/python3.11/dist-packages (from librosa) (1.14.1)\n",
            "Requirement already satisfied: joblib>=1.0 in /usr/local/lib/python3.11/dist-packages (from librosa) (1.4.2)\n",
            "Requirement already satisfied: decorator>=4.3.0 in /usr/local/lib/python3.11/dist-packages (from librosa) (4.4.2)\n",
            "Requirement already satisfied: soundfile>=0.12.1 in /usr/local/lib/python3.11/dist-packages (from librosa) (0.13.1)\n",
            "Requirement already satisfied: pooch>=1.1 in /usr/local/lib/python3.11/dist-packages (from librosa) (1.8.2)\n",
            "Requirement already satisfied: soxr>=0.3.2 in /usr/local/lib/python3.11/dist-packages (from librosa) (0.5.0.post1)\n",
            "Requirement already satisfied: typing_extensions>=4.1.1 in /usr/local/lib/python3.11/dist-packages (from librosa) (4.12.2)\n",
            "Requirement already satisfied: lazy_loader>=0.1 in /usr/local/lib/python3.11/dist-packages (from librosa) (0.4)\n",
            "Requirement already satisfied: msgpack>=1.0 in /usr/local/lib/python3.11/dist-packages (from librosa) (1.1.0)\n",
            "Requirement already satisfied: python-dateutil>=2.8.2 in /usr/local/lib/python3.11/dist-packages (from pandas) (2.8.2)\n",
            "Requirement already satisfied: pytz>=2020.1 in /usr/local/lib/python3.11/dist-packages (from pandas) (2025.1)\n",
            "Requirement already satisfied: tzdata>=2022.7 in /usr/local/lib/python3.11/dist-packages (from pandas) (2025.1)\n",
            "Requirement already satisfied: threadpoolctl>=3.1.0 in /usr/local/lib/python3.11/dist-packages (from scikit-learn) (3.6.0)\n",
            "Requirement already satisfied: packaging in /usr/local/lib/python3.11/dist-packages (from lazy_loader>=0.1->librosa) (24.2)\n",
            "Requirement already satisfied: llvmlite<0.44,>=0.43.0dev0 in /usr/local/lib/python3.11/dist-packages (from numba>=0.51.0->librosa) (0.43.0)\n",
            "Requirement already satisfied: platformdirs>=2.5.0 in /usr/local/lib/python3.11/dist-packages (from pooch>=1.1->librosa) (4.3.7)\n",
            "Requirement already satisfied: requests>=2.19.0 in /usr/local/lib/python3.11/dist-packages (from pooch>=1.1->librosa) (2.32.3)\n",
            "Requirement already satisfied: six>=1.5 in /usr/local/lib/python3.11/dist-packages (from python-dateutil>=2.8.2->pandas) (1.17.0)\n",
            "Requirement already satisfied: cffi>=1.0 in /usr/local/lib/python3.11/dist-packages (from soundfile>=0.12.1->librosa) (1.17.1)\n",
            "Requirement already satisfied: pycparser in /usr/local/lib/python3.11/dist-packages (from cffi>=1.0->soundfile>=0.12.1->librosa) (2.22)\n",
            "Requirement already satisfied: charset-normalizer<4,>=2 in /usr/local/lib/python3.11/dist-packages (from requests>=2.19.0->pooch>=1.1->librosa) (3.4.1)\n",
            "Requirement already satisfied: idna<4,>=2.5 in /usr/local/lib/python3.11/dist-packages (from requests>=2.19.0->pooch>=1.1->librosa) (3.10)\n",
            "Requirement already satisfied: urllib3<3,>=1.21.1 in /usr/local/lib/python3.11/dist-packages (from requests>=2.19.0->pooch>=1.1->librosa) (2.3.0)\n",
            "Requirement already satisfied: certifi>=2017.4.17 in /usr/local/lib/python3.11/dist-packages (from requests>=2.19.0->pooch>=1.1->librosa) (2025.1.31)\n"
          ]
        }
      ],
      "source": [
        "pip install librosa numpy pandas scikit-learn\n"
      ]
    },
    {
      "cell_type": "code",
      "execution_count": 3,
      "metadata": {
        "colab": {
          "base_uri": "https://localhost:8080/"
        },
        "id": "mdP3lzMMM3Pm",
        "outputId": "cf958676-1d5d-4b55-8e61-3bbed0ad84a3"
      },
      "outputs": [
        {
          "output_type": "stream",
          "name": "stdout",
          "text": [
            "Downloading from https://www.kaggle.com/api/v1/datasets/download/vjcalling/speaker-recognition-audio-dataset?dataset_version_number=1...\n"
          ]
        },
        {
          "output_type": "stream",
          "name": "stderr",
          "text": [
            "100%|██████████| 3.64G/3.64G [00:45<00:00, 86.6MB/s]"
          ]
        },
        {
          "output_type": "stream",
          "name": "stdout",
          "text": [
            "Extracting files...\n"
          ]
        },
        {
          "output_type": "stream",
          "name": "stderr",
          "text": [
            "\n"
          ]
        },
        {
          "output_type": "stream",
          "name": "stdout",
          "text": [
            "Path to dataset files: /root/.cache/kagglehub/datasets/vjcalling/speaker-recognition-audio-dataset/versions/1\n"
          ]
        }
      ],
      "source": [
        "import kagglehub\n",
        "\n",
        "# Download latest version\n",
        "path = kagglehub.dataset_download(\"vjcalling/speaker-recognition-audio-dataset\")\n",
        "\n",
        "print(\"Path to dataset files:\", path)"
      ]
    },
    {
      "cell_type": "code",
      "execution_count": 4,
      "metadata": {
        "id": "o0Dcwz8dMi8L"
      },
      "outputs": [],
      "source": [
        "import os\n",
        "import librosa\n",
        "import numpy as np\n",
        "\n",
        "def extract_mfcc(file_path, max_length=100):\n",
        "    y, sr = librosa.load(file_path, sr=22050)\n",
        "    mfcc = librosa.feature.mfcc(y=y, sr=sr, n_mfcc=13)\n",
        "\n",
        "    # Pad or truncate to ensure all MFCC features have the same length\n",
        "    if mfcc.shape[1] < max_length:\n",
        "        pad_width = max_length - mfcc.shape[1]\n",
        "        mfcc = np.pad(mfcc, pad_width=((0, 0), (0, pad_width)), mode='constant')\n",
        "    else:\n",
        "        mfcc = mfcc[:, :max_length]\n",
        "\n",
        "    return mfcc.flatten()\n",
        "\n",
        "# Extract features from all audio files\n",
        "dataset_dir = \"/root/.cache/kagglehub/datasets/vjcalling/speaker-recognition-audio-dataset/versions/1\" # Use the downloaded dataset path\n",
        "features = []\n",
        "labels = []\n",
        "\n",
        "for speaker in os.listdir(dataset_dir):\n",
        "    speaker_path = os.path.join(dataset_dir, speaker)\n",
        "    if os.path.isdir(speaker_path):\n",
        "        for file in os.listdir(speaker_path):\n",
        "            if file.endswith(\".wav\"):\n",
        "                file_path = os.path.join(speaker_path, file)\n",
        "                mfcc_features = extract_mfcc(file_path)\n",
        "                features.append(mfcc_features)\n",
        "                labels.append(speaker)  # Use speaker name as label\n",
        "\n",
        "# Convert to NumPy arrays\n",
        "X = np.array(features)\n",
        "y = np.array(labels)\n"
      ]
    },
    {
      "cell_type": "code",
      "execution_count": 5,
      "metadata": {
        "colab": {
          "base_uri": "https://localhost:8080/"
        },
        "id": "NiGGbVNvOonp",
        "outputId": "b5bb4335-0956-47be-f910-421eb0e8c8be"
      },
      "outputs": [
        {
          "output_type": "stream",
          "name": "stdout",
          "text": [
            "['50_speakers_audio_data']\n"
          ]
        }
      ],
      "source": [
        "import os\n",
        "print(os.listdir(\"/root/.cache/kagglehub/datasets/vjcalling/speaker-recognition-audio-dataset/versions/1\"))\n"
      ]
    },
    {
      "cell_type": "code",
      "source": [
        "import numpy as np\n",
        "import os\n",
        "import librosa\n",
        "import matplotlib.pyplot as plt\n",
        "from collections import Counter\n",
        "from sklearn.model_selection import train_test_split\n",
        "from sklearn.preprocessing import LabelEncoder\n",
        "\n",
        "# Step 1: Dataset Path\n",
        "dataset_path = \"/root/.cache/kagglehub/datasets/vjcalling/speaker-recognition-audio-dataset/versions/1/50_speakers_audio_data\"\n",
        "\n",
        "# Step 2: Check if dataset exists\n",
        "if not os.path.exists(dataset_path):\n",
        "    raise FileNotFoundError(f\"Dataset not found at {dataset_path}. Check if the download was successful.\")\n",
        "\n",
        "# Step 3: Extract MFCC Features\n",
        "def extract_mfcc(file_path, n_mfcc=13):\n",
        "    y, sr = librosa.load(file_path, sr=None)  # Load audio file\n",
        "    mfcc = librosa.feature.mfcc(y=y, sr=sr, n_mfcc=n_mfcc)  # Extract MFCC\n",
        "    return np.mean(mfcc, axis=1)  # Take mean along time axis\n",
        "\n",
        "# Step 4: Load and Process Dataset\n",
        "X, y = [], []\n",
        "\n",
        "for speaker_folder in os.listdir(dataset_path):\n",
        "    speaker_path = os.path.join(dataset_path, speaker_folder)\n",
        "    if os.path.isdir(speaker_path):  # Ensure it's a valid speaker directory\n",
        "        for file in os.listdir(speaker_path):\n",
        "            if file.endswith(\".wav\"):  # Process only WAV files\n",
        "                file_path = os.path.join(speaker_path, file)\n",
        "                features = extract_mfcc(file_path)  # Extract MFCC\n",
        "                X.append(features)\n",
        "                y.append(speaker_folder)  # Use folder name as speaker label\n",
        "\n",
        "# Step 5: Convert to NumPy Arrays\n",
        "X = np.array(X)\n",
        "y = np.array(y)\n",
        "\n",
        "# Step 6: Encode Labels\n",
        "label_encoder = LabelEncoder()\n",
        "y = label_encoder.fit_transform(y)  # Convert speaker names to numerical labels\n",
        "\n",
        "# Step 7: Split Data into Training, Validation & Testing Sets\n",
        "X_train, X_temp, y_train, y_temp = train_test_split(X, y, test_size=0.4, random_state=42)\n",
        "X_val, X_test, y_val, y_test = train_test_split(X_temp, y_temp, test_size=0.5, random_state=42)\n",
        "\n",
        "# Step 8: Display Class Distribution\n",
        "print(f\"Speaker Distribution:\")\n",
        "print(f\"Training set: {len(y_train)} samples, {len(set(y_train))} unique speakers\")\n",
        "print(f\"Validation set: {len(y_val)} samples, {len(set(y_val))} unique speakers\")\n",
        "print(f\"Test set: {len(y_test)} samples, {len(set(y_test))} unique speakers\")\n",
        "\n",
        "# Step 9: KNN from Scratch\n",
        "class KNN:\n",
        "    def __init__(self, k=3):\n",
        "        self.k = k\n",
        "\n",
        "    def fit(self, X_train, y_train):\n",
        "        self.X_train = X_train\n",
        "        self.y_train = y_train\n",
        "\n",
        "    def predict(self, X_test):\n",
        "        return np.array([self._predict_single(x) for x in X_test])\n",
        "\n",
        "    def _predict_single(self, x):\n",
        "        distances = np.linalg.norm(self.X_train - x, axis=1)  # Euclidean distance\n",
        "        k_indices = np.argsort(distances)[:self.k]  # Get indices of k nearest neighbors\n",
        "        k_nearest_labels = self.y_train[k_indices]  # Get k nearest labels\n",
        "        most_common = Counter(k_nearest_labels).most_common(1)\n",
        "        return most_common[0][0]  # Return most common label\n",
        "\n",
        "    def accuracy(self, X_test, y_test):\n",
        "        y_pred = self.predict(X_test)\n",
        "        return np.sum(y_pred == y_test) / len(y_test) * 100\n",
        "\n",
        "# Step 10: Find the Best k\n",
        "k_values = range(1, 21)\n",
        "accuracies = []\n",
        "\n",
        "for k in k_values:\n",
        "    knn = KNN(k=k)\n",
        "    knn.fit(X_train, y_train)\n",
        "    acc = knn.accuracy(X_test, y_test)\n",
        "    accuracies.append(acc)\n",
        "\n",
        "# Step 11: Plot Accuracy vs. k-values\n",
        "plt.figure(figsize=(8, 5))\n",
        "plt.plot(k_values, accuracies, marker='o', linestyle='-', color='b', label=\"Test Accuracy\")\n",
        "plt.xlabel(\"Number of Neighbors (k)\")\n",
        "plt.ylabel(\"Accuracy (%)\")\n",
        "plt.title(\"KNN Accuracy vs. k (from Scratch)\")\n",
        "plt.xticks(k_values)\n",
        "plt.grid(True)\n",
        "plt.legend()\n",
        "plt.show()\n",
        "\n",
        "# Step 12: Find the Best k\n",
        "best_k = k_values[np.argmax(accuracies)]\n",
        "best_accuracy = max(accuracies)\n",
        "\n",
        "print(f\"Best k: {best_k}, Accuracy: {best_accuracy:.2f}%\")\n",
        "\n",
        "# Step 13: Compute Accuracies for Train, Validation, and Test\n",
        "best_knn = KNN(k=best_k)\n",
        "best_knn.fit(X_train, y_train)\n",
        "\n",
        "train_accuracy = best_knn.accuracy(X_train, y_train)\n",
        "val_accuracy = best_knn.accuracy(X_val, y_val)\n",
        "test_accuracy = best_knn.accuracy(X_test, y_test)\n",
        "\n",
        "print(f\"Training Accuracy: {train_accuracy:.2f}%\")\n",
        "print(f\"Validation Accuracy: {val_accuracy:.2f}%\")\n",
        "print(f\"Test Accuracy: {test_accuracy:.2f}%\")\n"
      ],
      "metadata": {
        "colab": {
          "base_uri": "https://localhost:8080/",
          "height": 597
        },
        "id": "HOz7pdxRTW9s",
        "outputId": "54f13817-94e2-408b-b8db-6b2ea04cb56a"
      },
      "execution_count": 8,
      "outputs": [
        {
          "output_type": "stream",
          "name": "stdout",
          "text": [
            "Speaker Distribution:\n",
            "Training set: 1506 samples, 50 unique speakers\n",
            "Validation set: 502 samples, 50 unique speakers\n",
            "Test set: 503 samples, 50 unique speakers\n"
          ]
        },
        {
          "output_type": "display_data",
          "data": {
            "text/plain": [
              "<Figure size 800x500 with 1 Axes>"
            ],
            "image/png": "[encoded data removed]"
          },
          "metadata": {}
        },
        {
          "output_type": "stream",
          "name": "stdout",
          "text": [
            "Best k: 3, Accuracy: 94.63%\n",
            "Training Accuracy: 98.27%\n",
            "Validation Accuracy: 95.22%\n",
            "Test Accuracy: 94.63%\n"
          ]
        }
      ]
    }
  ],
  "metadata": {
    "colab": {
      "provenance": []
    },
    "kernelspec": {
      "display_name": "Python 3",
      "name": "python3"
    },
    "language_info": {
      "name": "python"
    }
  },
  "nbformat": 4,
  "nbformat_minor": 0
}