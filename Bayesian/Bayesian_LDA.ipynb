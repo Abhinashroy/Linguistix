{
  "nbformat": 4,
  "nbformat_minor": 0,
  "metadata": {
    "colab": {
      "provenance": [],
      "gpuType": "T4"
    },
    "kernelspec": {
      "name": "python3",
      "display_name": "Python 3"
    },
    "language_info": {
      "name": "python"
    }
  },
  "cells": [
    {
      "cell_type": "code",
      "source": [
        "import numpy as np\n",
        "import math\n",
        "import matplotlib.pyplot as plt\n",
        "from sklearn.model_selection import train_test_split\n",
        "\n",
        "# Load Data\n",
        "X = np.load(\"X_features.npy\")  # MFCC features\n",
        "y = np.load(\"y_labels.npy\")  # Labels"
      ],
      "metadata": {
        "id": "zl371w_CbLjK"
      },
      "execution_count": null,
      "outputs": []
    },
    {
      "cell_type": "code",
      "source": [
        "# LDA Functions\n",
        "def compute_class_means(X, y):\n",
        "    class_labels = np.unique(y)\n",
        "    means = {label: np.mean(X[y == label], axis=0) for label in class_labels}\n",
        "    return means\n",
        "\n",
        "def compute_within_class_scatter(X, y, means):\n",
        "    n_features = X.shape[1]\n",
        "    Sw = np.zeros((n_features, n_features))\n",
        "    for label, mean in means.items():\n",
        "        class_scatter = np.dot((X[y == label] - mean).T, (X[y == label] - mean))\n",
        "        Sw += class_scatter\n",
        "    return Sw\n",
        "\n",
        "def compute_between_class_scatter(X, y, means):\n",
        "    overall_mean = np.mean(X, axis=0)\n",
        "    n_features = X.shape[1]\n",
        "    Sb = np.zeros((n_features, n_features))\n",
        "    for label, mean in means.items():\n",
        "        n_samples = X[y == label].shape[0]\n",
        "        mean_diff = (mean - overall_mean).reshape(-1, 1)\n",
        "        Sb += n_samples * np.dot(mean_diff, mean_diff.T)\n",
        "    return Sb\n",
        "\n",
        "def lda(X, y, num_components):\n",
        "    means = compute_class_means(X, y)\n",
        "    Sw = compute_within_class_scatter(X, y, means)\n",
        "    Sb = compute_between_class_scatter(X, y, means)\n",
        "\n",
        "    eigvals, eigvecs = np.linalg.eig(np.linalg.pinv(Sw).dot(Sb))\n",
        "    eigvals = eigvals.real  # Keep only real parts\n",
        "    eigvecs = eigvecs.real  # Keep only real parts\n",
        "\n",
        "    sorted_indices = np.argsort(eigvals)[::-1]\n",
        "    eigvecs = eigvecs[:, sorted_indices]\n",
        "    return eigvecs[:, :num_components]\n",
        "\n",
        "def project_data(X, eigenvectors):\n",
        "    return np.dot(X, eigenvectors)\n",
        "\n",
        "# Applying LDA\n",
        "num_classes = len(np.unique(y))\n",
        "num_components = num_classes - 1\n",
        "# lda_eigenvectors = lda(X, y, num_components)\n",
        "# X_lda = project_data(X, lda_eigenvectors)\n",
        "\n",
        "X_lda = np.load(\"X_lda.npy\") # Loading LDA directly to save processing time."
      ],
      "metadata": {
        "id": "QJZYDOMxaDbJ"
      },
      "execution_count": null,
      "outputs": []
    },
    {
      "cell_type": "code",
      "source": [
        "# Splitting Data (70-20-10 Train-Test-Val Split)\n",
        "X_train, X_temp, y_train, y_temp = train_test_split(X_lda, y, test_size=0.3, random_state=42)\n",
        "X_test, X_val, y_test, y_val = train_test_split(X_temp, y_temp, test_size=1/3, random_state=42)"
      ],
      "metadata": {
        "id": "ZKm3TpRZbNMj"
      },
      "execution_count": null,
      "outputs": []
    },
    {
      "cell_type": "code",
      "source": [
        "# Naïve Bayes Classifier\n",
        "class NaiveBayesClassifier:\n",
        "    def __init__(self):\n",
        "        self.class_priors = {}\n",
        "        self.class_means = {}\n",
        "        self.class_variances = {}\n",
        "\n",
        "    def fit(self, X, y):\n",
        "        self.classes = np.unique(y)\n",
        "        for cls in self.classes:\n",
        "            X_cls = X[y == cls]\n",
        "            self.class_priors[cls] = len(X_cls) / len(y)  # P(y)\n",
        "            self.class_means[cls] = np.mean(X_cls, axis=0)  # Mean per feature\n",
        "            self.class_variances[cls] = np.maximum(np.var(X_cls, axis=0), 1e-2)  # Variance per feature\n",
        "\n",
        "    def gaussian_pdf(self, x, mean, var):\n",
        "        \"\"\"Compute Gaussian probability density function.\"\"\"\n",
        "        var = np.where(var < 1e-2, 1e-2, var) # Avoid division by zero\n",
        "        eps = 1e-9\n",
        "        prob = (1 / np.sqrt(2 * np.pi * var)) * np.exp(-((x - mean) ** 2) / (2 * var))\n",
        "        return np.clip(prob, eps, None)\n",
        "\n",
        "    def predict(self, X):\n",
        "        predictions = []\n",
        "        for x in X:\n",
        "            class_probs = {}\n",
        "            for cls in self.classes:\n",
        "                prior = np.log(self.class_priors[cls])  # Log prior for numerical stability\n",
        "                likelihoods = np.sum(np.log(self.gaussian_pdf(x, self.class_means[cls], self.class_variances[cls])))\n",
        "                class_probs[cls] = prior + likelihoods  # Log Posterior = Log Prior + Log Likelihood\n",
        "\n",
        "            predictions.append(max(class_probs, key=class_probs.get))  # Choose max posterior\n",
        "        return np.array(predictions)\n",
        "\n",
        "# Train Naïve Bayes Classifier\n",
        "nb_classifier = NaiveBayesClassifier()\n",
        "nb_classifier.fit(X_train, y_train)"
      ],
      "metadata": {
        "id": "MPftnKfFbdp7"
      },
      "execution_count": null,
      "outputs": []
    },
    {
      "cell_type": "code",
      "source": [
        "# Predict\n",
        "y_train_pred = nb_classifier.predict(X_train)\n",
        "y_test_pred = nb_classifier.predict(X_test)\n",
        "y_val_pred = nb_classifier.predict(X_val)\n",
        "\n",
        "# Accuracy Calculation\n",
        "train_accuracy = np.mean(y_train_pred == y_train) * 100\n",
        "test_accuracy = np.mean(y_test_pred == y_test) * 100\n",
        "val_accuracy = np.mean(y_val_pred == y_val) * 100\n",
        "\n",
        "# Print Results\n",
        "print(f\"Train Accuracy: {train_accuracy:.2f}%\")\n",
        "print(f\"Test Accuracy: {test_accuracy:.2f}%\")\n",
        "print(f\"Validation Accuracy: {val_accuracy:.2f}%\")"
      ],
      "metadata": {
        "colab": {
          "base_uri": "https://localhost:8080/"
        },
        "id": "dsH53bmCbjWQ",
        "outputId": "8d68c4ce-6d91-4619-a0ff-0513bc29caf8"
      },
      "execution_count": null,
      "outputs": [
        {
          "output_type": "stream",
          "name": "stdout",
          "text": [
            "Train Accuracy: 99.89%\n",
            "Test Accuracy: 99.80%\n",
            "Validation Accuracy: 100.00%\n"
          ]
        }
      ]
    },
    {
      "cell_type": "code",
      "source": [
        "# Plot Accuracy\n",
        "plt.figure(figsize=(6, 4))\n",
        "datasets = [\"Train\", \"Test\", \"Validation\"]\n",
        "accuracies = [train_accuracy, test_accuracy, val_accuracy]\n",
        "colors = [\"green\", \"blue\", \"red\"]\n",
        "\n",
        "plt.bar(datasets, accuracies, color=colors, alpha=0.7)\n",
        "plt.ylim(0, 100)  # Set y-axis limit to 100%\n",
        "plt.ylabel(\"Accuracy (%)\")\n",
        "plt.xlabel(\"Dataset\")\n",
        "plt.title(\"Naïve Bayes Classifier Accuracy\")\n",
        "\n",
        "# Label bars with accuracy values\n",
        "for i, acc in enumerate(accuracies):\n",
        "    plt.text(i, acc + 1, f\"{acc:.2f}%\", ha='center', fontsize=12)\n",
        "\n",
        "plt.grid(axis=\"y\", linestyle=\"--\", alpha=0.5)\n",
        "plt.show()"
      ],
      "metadata": {
        "colab": {
          "base_uri": "https://localhost:8080/",
          "height": 410
        },
        "id": "YdA4Z5eXbosf",
        "outputId": "c820ecca-8b14-4c1f-ea29-608d343d680b"
      },
      "execution_count": null,
      "outputs": [
        {
          "output_type": "display_data",
          "data": {
            "text/plain": [
              "<Figure size 600x400 with 1 Axes>"
            ],
            "image/png": "[encoded data removed]"
          },
          "metadata": {}
        }
      ]
    }
  ]
}