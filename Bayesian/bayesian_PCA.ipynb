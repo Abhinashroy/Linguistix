{
  "cells": [
    {
      "cell_type": "code",
      "execution_count": null,
      "metadata": {
        "id": "eUKrh-7xreaQ"
      },
      "outputs": [],
      "source": [
        "import numpy as np\n",
        "import math\n",
        "from sklearn.model_selection import train_test_split\n",
        "from collections import Counter\n",
        "import matplotlib.pyplot as plt"
      ]
    },
    {
      "cell_type": "code",
      "execution_count": null,
      "metadata": {
        "colab": {
          "base_uri": "https://localhost:8080/"
        },
        "id": "VNbBgs2NCnAM",
        "outputId": "506ed65a-01dc-43d8-8c34-16c753f2f4d2"
      },
      "outputs": [
        {
          "name": "stdout",
          "output_type": "stream",
          "text": [
            "4000\n"
          ]
        }
      ],
      "source": [
        "X = np.load(\"X_features.npy\")  # MFCC features\n",
        "y = np.load(\"y_labels.npy\")  # Labels\n",
        "\n",
        "print(X.shape[1])"
      ]
    },
    {
      "cell_type": "code",
      "execution_count": null,
      "metadata": {
        "id": "Z5Z61dS2riz7"
      },
      "outputs": [],
      "source": [
        "#PCA\n",
        "\n",
        "def standardise_data(dataset):\n",
        "  mean=np.mean(dataset,axis=0) #Mean\n",
        "  std_dev=np.std(dataset,axis=0) #Standard Deviation\n",
        "  std_data=(dataset-mean)/std_dev #Standardised Data\n",
        "\n",
        "  return std_data\n",
        "\n",
        "#Covariance matrix\n",
        "\n",
        "def covariance_matrix(dataset):\n",
        "  m=dataset.shape[0] #no of samples in the dataset\n",
        "  cov_matrix=np.dot(dataset.T,dataset)/(m-1) #Covariance Matrix\n",
        "\n",
        "  return cov_matrix\n",
        "\n",
        "#Eigenvalues and Eigenvectors\n",
        "\n",
        "def eigenvalues_eigenvectors(cov_matrix):\n",
        "  eigenvalues,eigenvectors=np.linalg.eig(cov_matrix)\n",
        "\n",
        "  return eigenvalues,eigenvectors\n",
        "\n",
        "def sort_eigenpairs(eigenvalues,eigenvectors):\n",
        "  sorted_indices=np.argsort(eigenvalues)[::-1] #Sorting in descending order\n",
        "  sorted_eigenvalues=eigenvalues[sorted_indices]\n",
        "  sorted_eigenvectors=eigenvectors[:,sorted_indices]\n",
        "\n",
        "  return sorted_eigenvalues,sorted_eigenvectors\n",
        "\n",
        "def project_dataset_to_new_plane(X, eigenvectors, top_n=1):\n",
        "  W=eigenvectors[:,:top_n]\n",
        "\n",
        "  projected_data=np.dot(X,W)\n",
        "\n",
        "  return projected_data"
      ]
    },
    {
      "cell_type": "code",
      "execution_count": 10,
      "metadata": {
        "colab": {
          "base_uri": "https://localhost:8080/",
          "height": 497
        },
        "id": "gm_cYgI7EbEB",
        "outputId": "cab9577e-7bcf-4dfe-ee64-6c88e9879e38"
      },
      "outputs": [
        {
          "output_type": "stream",
          "name": "stderr",
          "text": [
            "<ipython-input-10-8918c80611e3>:80: RuntimeWarning: divide by zero encountered in log\n",
            "  posterior = np.sum(np.log(likelihoods)) + np.log(self.priors[c])\n"
          ]
        },
        {
          "output_type": "stream",
          "name": "stdout",
          "text": [
            "Train Accuracy: 52.49%\n",
            "Validation Accuracy: 50.25%\n",
            "Test Accuracy: 48.11%\n"
          ]
        },
        {
          "output_type": "display_data",
          "data": {
            "text/plain": [
              "<Figure size 600x400 with 1 Axes>"
            ],
            "image/png": "[encoded data removed]"
          },
          "metadata": {}
        }
      ],
      "source": [
        "import numpy as np\n",
        "import matplotlib.pyplot as plt\n",
        "\n",
        "# Load the dataset\n",
        "X = np.load(\"X_features.npy\")  # MFCC Features\n",
        "y = np.load(\"y_labels.npy\")    # Labels\n",
        "\n",
        "# Standardize the Data\n",
        "def standardise_data(dataset):\n",
        "    mean = np.mean(dataset, axis=0)\n",
        "    std_dev = np.std(dataset, axis=0)\n",
        "    return (dataset - mean) / std_dev\n",
        "\n",
        "X_standardized = standardise_data(X)\n",
        "\n",
        "# Compute Covariance Matrix\n",
        "def covariance_matrix(dataset):\n",
        "    m = dataset.shape[0]\n",
        "    return np.dot(dataset.T, dataset) / (m - 1)\n",
        "\n",
        "cov_matrix = covariance_matrix(X_standardized)\n",
        "\n",
        "# Compute Eigenvalues & Eigenvectors\n",
        "def eigenvalues_eigenvectors(cov_matrix):\n",
        "    return np.linalg.eig(cov_matrix)\n",
        "\n",
        "eigenvalues, eigenvectors = eigenvalues_eigenvectors(cov_matrix)\n",
        "\n",
        "# Sort Eigenvalues & Eigenvectors\n",
        "def sort_eigenpairs(eigenvalues, eigenvectors):\n",
        "    sorted_indices = np.argsort(eigenvalues)[::-1]\n",
        "    return eigenvalues[sorted_indices], eigenvectors[:, sorted_indices]\n",
        "\n",
        "sorted_eigenvalues, sorted_eigenvectors = sort_eigenpairs(eigenvalues, eigenvectors)\n",
        "\n",
        "# Reduce Dimension using PCA (Select Top `n` Components)\n",
        "top_n = 10\n",
        "def project_dataset_to_new_plane(X, eigenvectors, top_n):\n",
        "    W = eigenvectors[:, :top_n]\n",
        "    return np.dot(X, W)\n",
        "\n",
        "X_pca = project_dataset_to_new_plane(X_standardized, sorted_eigenvectors, top_n)\n",
        "\n",
        "# Train/Test/Validation Split\n",
        "def train_val_test_split(X, y, test_size=0.2, val_size=0.2, seed=42):\n",
        "    np.random.seed(seed)\n",
        "    indices = np.arange(X.shape[0])\n",
        "    np.random.shuffle(indices)\n",
        "\n",
        "    test_split = int(len(indices) * (1 - test_size))\n",
        "    val_split = int(test_split * (1 - val_size))\n",
        "\n",
        "    train_idx, val_idx, test_idx = indices[:val_split], indices[val_split:test_split], indices[test_split:]\n",
        "\n",
        "    return X[train_idx], X[val_idx], X[test_idx], y[train_idx], y[val_idx], y[test_idx]\n",
        "\n",
        "X_train, X_val, X_test, y_train, y_val, y_test = train_val_test_split(X_pca, y, test_size=0.2, val_size=0.2)\n",
        "\n",
        "# Naive Bayes Classifier from Scratch\n",
        "class NaiveBayes:\n",
        "    def fit(self, X, y):\n",
        "        self.classes = np.unique(y)\n",
        "        self.priors = {}  # P(y)\n",
        "        self.means = {}   # mean(X|y)\n",
        "        self.variances = {}  # var(X|y)\n",
        "\n",
        "        for c in self.classes:\n",
        "            X_c = X[y == c]\n",
        "            self.priors[c] = len(X_c) / len(y)\n",
        "            self.means[c] = np.mean(X_c, axis=0)\n",
        "            self.variances[c] = np.var(X_c, axis=0) + 1e-9  # Add small value for numerical stability\n",
        "\n",
        "    def gaussian_pdf(self, x, mean, var):\n",
        "        return (1 / np.sqrt(2 * np.pi * var)) * np.exp(-((x - mean) ** 2) / (2 * var))\n",
        "\n",
        "    def predict_sample(self, x):\n",
        "        posteriors = {}\n",
        "        for c in self.classes:\n",
        "            likelihoods = self.gaussian_pdf(x, self.means[c], self.variances[c])\n",
        "            posterior = np.sum(np.log(likelihoods)) + np.log(self.priors[c])\n",
        "            posteriors[c] = posterior\n",
        "        return max(posteriors, key=posteriors.get)\n",
        "\n",
        "    def predict(self, X):\n",
        "        return np.array([self.predict_sample(x) for x in X])\n",
        "\n",
        "# Train & Evaluate Naive Bayes\n",
        "nb = NaiveBayes()\n",
        "nb.fit(X_train, y_train)\n",
        "\n",
        "y_train_pred = nb.predict(X_train)\n",
        "y_val_pred = nb.predict(X_val)\n",
        "y_test_pred = nb.predict(X_test)\n",
        "\n",
        "# Compute Accuracy\n",
        "def compute_accuracy(y_true, y_pred):\n",
        "    return np.sum(y_pred == y_true) / len(y_true) * 100\n",
        "\n",
        "train_acc = compute_accuracy(y_train, y_train_pred)\n",
        "val_acc = compute_accuracy(y_val, y_val_pred)\n",
        "test_acc = compute_accuracy(y_test, y_test_pred)\n",
        "\n",
        "# Print Accuracy Scores\n",
        "print(f\"Train Accuracy: {train_acc:.2f}%\")\n",
        "print(f\"Validation Accuracy: {val_acc:.2f}%\")\n",
        "print(f\"Test Accuracy: {test_acc:.2f}%\")\n",
        "\n",
        "#  Bar Plot for Accuracy\n",
        "plt.figure(figsize=(6, 4))\n",
        "plt.bar([\"Train\", \"Validation\", \"Test\"], [train_acc, val_acc, test_acc], color=[\"blue\", \"orange\", \"green\"])\n",
        "plt.xlabel(\"Dataset\")\n",
        "plt.ylabel(\"Accuracy (%)\")\n",
        "plt.title(\"Naive Bayes Classification with PCA\")\n",
        "plt.ylim(0, 100)\n",
        "plt.grid(axis=\"y\", linestyle=\"--\", alpha=0.7)\n",
        "plt.show()\n"
      ]
    }
  ],
  "metadata": {
    "colab": {
      "provenance": []
    },
    "kernelspec": {
      "display_name": "Python 3",
      "name": "python3"
    },
    "language_info": {
      "name": "python"
    }
  },
  "nbformat": 4,
  "nbformat_minor": 0
}